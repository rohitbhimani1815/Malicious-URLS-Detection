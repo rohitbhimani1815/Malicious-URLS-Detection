{
 "cells": [
  {
   "cell_type": "code",
   "execution_count": 58,
   "metadata": {},
   "outputs": [],
   "source": [
    "import pandas as pd\n",
    "import numpy as np \n",
    "import matplotlib.pyplot as plt\n",
    "from sklearn.model_selection import train_test_split \n",
    "from sklearn.linear_model import LogisticRegression\n",
    "from sklearn.metrics import precision_score, recall_score, accuracy_score,f1_score\n",
    "import sklearn\n",
    "from sklearn import metrics\n",
    "%matplotlib inline"
   ]
  },
  {
   "cell_type": "code",
   "execution_count": 59,
   "metadata": {},
   "outputs": [
    {
     "data": {
      "text/html": [
       "<div>\n",
       "<style scoped>\n",
       "    .dataframe tbody tr th:only-of-type {\n",
       "        vertical-align: middle;\n",
       "    }\n",
       "\n",
       "    .dataframe tbody tr th {\n",
       "        vertical-align: top;\n",
       "    }\n",
       "\n",
       "    .dataframe thead th {\n",
       "        text-align: right;\n",
       "    }\n",
       "</style>\n",
       "<table border=\"1\" class=\"dataframe\">\n",
       "  <thead>\n",
       "    <tr style=\"text-align: right;\">\n",
       "      <th></th>\n",
       "      <th>url</th>\n",
       "      <th>url_len</th>\n",
       "      <th>count_comma</th>\n",
       "      <th>count_semicolon</th>\n",
       "      <th>count_quotes</th>\n",
       "      <th>count_braces</th>\n",
       "      <th>count_redirects</th>\n",
       "      <th>count_pipes</th>\n",
       "      <th>count_dots</th>\n",
       "      <th>count_dash</th>\n",
       "      <th>...</th>\n",
       "      <th>count_dots_host</th>\n",
       "      <th>count_digit_host</th>\n",
       "      <th>count_non_alphanumeric_host</th>\n",
       "      <th>parameter_count</th>\n",
       "      <th>parameter_length</th>\n",
       "      <th>directory_len</th>\n",
       "      <th>digit_char_ratio</th>\n",
       "      <th>vowel_consonant_ratio</th>\n",
       "      <th>avg_len_token</th>\n",
       "      <th>label</th>\n",
       "    </tr>\n",
       "  </thead>\n",
       "  <tbody>\n",
       "    <tr>\n",
       "      <td>0</td>\n",
       "      <td>https://2bittechnology.in/js/mfilealldom/mfile...</td>\n",
       "      <td>72</td>\n",
       "      <td>0</td>\n",
       "      <td>0</td>\n",
       "      <td>0</td>\n",
       "      <td>0</td>\n",
       "      <td>0</td>\n",
       "      <td>0</td>\n",
       "      <td>1</td>\n",
       "      <td>0</td>\n",
       "      <td>...</td>\n",
       "      <td>1</td>\n",
       "      <td>1</td>\n",
       "      <td>1</td>\n",
       "      <td>0</td>\n",
       "      <td>0</td>\n",
       "      <td>55</td>\n",
       "      <td>2.3</td>\n",
       "      <td>0.241379</td>\n",
       "      <td>9.4</td>\n",
       "      <td>1</td>\n",
       "    </tr>\n",
       "    <tr>\n",
       "      <td>1</td>\n",
       "      <td>https://www.xporn.eventfreex.com/</td>\n",
       "      <td>25</td>\n",
       "      <td>0</td>\n",
       "      <td>0</td>\n",
       "      <td>0</td>\n",
       "      <td>0</td>\n",
       "      <td>0</td>\n",
       "      <td>0</td>\n",
       "      <td>3</td>\n",
       "      <td>0</td>\n",
       "      <td>...</td>\n",
       "      <td>3</td>\n",
       "      <td>1</td>\n",
       "      <td>3</td>\n",
       "      <td>0</td>\n",
       "      <td>0</td>\n",
       "      <td>1</td>\n",
       "      <td>21.0</td>\n",
       "      <td>0.315789</td>\n",
       "      <td>5.4</td>\n",
       "      <td>1</td>\n",
       "    </tr>\n",
       "    <tr>\n",
       "      <td>2</td>\n",
       "      <td>https://upapage.000webhostapp.com/set.html</td>\n",
       "      <td>34</td>\n",
       "      <td>0</td>\n",
       "      <td>0</td>\n",
       "      <td>0</td>\n",
       "      <td>0</td>\n",
       "      <td>0</td>\n",
       "      <td>0</td>\n",
       "      <td>3</td>\n",
       "      <td>0</td>\n",
       "      <td>...</td>\n",
       "      <td>2</td>\n",
       "      <td>3</td>\n",
       "      <td>2</td>\n",
       "      <td>0</td>\n",
       "      <td>0</td>\n",
       "      <td>9</td>\n",
       "      <td>9.0</td>\n",
       "      <td>0.360000</td>\n",
       "      <td>6.4</td>\n",
       "      <td>1</td>\n",
       "    </tr>\n",
       "    <tr>\n",
       "      <td>3</td>\n",
       "      <td>https://upapage.000webhostapp.com/sets.html?=1...</td>\n",
       "      <td>115</td>\n",
       "      <td>0</td>\n",
       "      <td>0</td>\n",
       "      <td>0</td>\n",
       "      <td>0</td>\n",
       "      <td>0</td>\n",
       "      <td>0</td>\n",
       "      <td>3</td>\n",
       "      <td>0</td>\n",
       "      <td>...</td>\n",
       "      <td>2</td>\n",
       "      <td>3</td>\n",
       "      <td>2</td>\n",
       "      <td>4</td>\n",
       "      <td>80</td>\n",
       "      <td>10</td>\n",
       "      <td>5.8</td>\n",
       "      <td>0.321839</td>\n",
       "      <td>14.5</td>\n",
       "      <td>1</td>\n",
       "    </tr>\n",
       "    <tr>\n",
       "      <td>4</td>\n",
       "      <td>https://f.samsung-lucky-winner.xyz/</td>\n",
       "      <td>27</td>\n",
       "      <td>0</td>\n",
       "      <td>0</td>\n",
       "      <td>0</td>\n",
       "      <td>0</td>\n",
       "      <td>0</td>\n",
       "      <td>0</td>\n",
       "      <td>2</td>\n",
       "      <td>2</td>\n",
       "      <td>...</td>\n",
       "      <td>2</td>\n",
       "      <td>1</td>\n",
       "      <td>4</td>\n",
       "      <td>0</td>\n",
       "      <td>0</td>\n",
       "      <td>1</td>\n",
       "      <td>22.0</td>\n",
       "      <td>0.227273</td>\n",
       "      <td>5.8</td>\n",
       "      <td>1</td>\n",
       "    </tr>\n",
       "  </tbody>\n",
       "</table>\n",
       "<p>5 rows × 32 columns</p>\n",
       "</div>"
      ],
      "text/plain": [
       "                                                 url  url_len  count_comma  \\\n",
       "0  https://2bittechnology.in/js/mfilealldom/mfile...       72            0   \n",
       "1                  https://www.xporn.eventfreex.com/       25            0   \n",
       "2         https://upapage.000webhostapp.com/set.html       34            0   \n",
       "3  https://upapage.000webhostapp.com/sets.html?=1...      115            0   \n",
       "4                https://f.samsung-lucky-winner.xyz/       27            0   \n",
       "\n",
       "   count_semicolon  count_quotes  count_braces  count_redirects  count_pipes  \\\n",
       "0                0             0             0                0            0   \n",
       "1                0             0             0                0            0   \n",
       "2                0             0             0                0            0   \n",
       "3                0             0             0                0            0   \n",
       "4                0             0             0                0            0   \n",
       "\n",
       "   count_dots  count_dash  ...  count_dots_host  count_digit_host  \\\n",
       "0           1           0  ...                1                 1   \n",
       "1           3           0  ...                3                 1   \n",
       "2           3           0  ...                2                 3   \n",
       "3           3           0  ...                2                 3   \n",
       "4           2           2  ...                2                 1   \n",
       "\n",
       "   count_non_alphanumeric_host  parameter_count  parameter_length  \\\n",
       "0                            1                0                 0   \n",
       "1                            3                0                 0   \n",
       "2                            2                0                 0   \n",
       "3                            2                4                80   \n",
       "4                            4                0                 0   \n",
       "\n",
       "   directory_len  digit_char_ratio  vowel_consonant_ratio  avg_len_token  \\\n",
       "0             55               2.3               0.241379            9.4   \n",
       "1              1              21.0               0.315789            5.4   \n",
       "2              9               9.0               0.360000            6.4   \n",
       "3             10               5.8               0.321839           14.5   \n",
       "4              1              22.0               0.227273            5.8   \n",
       "\n",
       "   label  \n",
       "0      1  \n",
       "1      1  \n",
       "2      1  \n",
       "3      1  \n",
       "4      1  \n",
       "\n",
       "[5 rows x 32 columns]"
      ]
     },
     "execution_count": 59,
     "metadata": {},
     "output_type": "execute_result"
    }
   ],
   "source": [
    "dataset=pd.read_csv('Featured_dataset.csv')\n",
    "\n",
    "dataset.head()"
   ]
  },
  {
   "cell_type": "code",
   "execution_count": 60,
   "metadata": {},
   "outputs": [
    {
     "data": {
      "text/plain": [
       "Index(['url', 'url_len', 'count_comma', 'count_semicolon', 'count_quotes',\n",
       "       'count_braces', 'count_redirects', 'count_pipes', 'count_dots',\n",
       "       'count_dash', 'count_underline', 'count_question', 'count_equal',\n",
       "       'count_attherate', 'count_char', 'count_digit', 'count_alphanumeric',\n",
       "       'count_non_alphanumeric', 'count_tlds', 'host_has_ip', 'present_ip',\n",
       "       'present_http', 'count_dots_host', 'count_digit_host',\n",
       "       'count_non_alphanumeric_host', 'parameter_count', 'parameter_length',\n",
       "       'directory_len', 'digit_char_ratio', 'vowel_consonant_ratio',\n",
       "       'avg_len_token', 'label'],\n",
       "      dtype='object')"
      ]
     },
     "execution_count": 60,
     "metadata": {},
     "output_type": "execute_result"
    }
   ],
   "source": [
    "dataset.columns"
   ]
  },
  {
   "cell_type": "code",
   "execution_count": 61,
   "metadata": {},
   "outputs": [
    {
     "data": {
      "text/plain": [
       "(997429, 32)"
      ]
     },
     "execution_count": 61,
     "metadata": {},
     "output_type": "execute_result"
    }
   ],
   "source": [
    "dataset.shape"
   ]
  },
  {
   "cell_type": "code",
   "execution_count": 62,
   "metadata": {},
   "outputs": [
    {
     "data": {
      "text/html": [
       "<div>\n",
       "<style scoped>\n",
       "    .dataframe tbody tr th:only-of-type {\n",
       "        vertical-align: middle;\n",
       "    }\n",
       "\n",
       "    .dataframe tbody tr th {\n",
       "        vertical-align: top;\n",
       "    }\n",
       "\n",
       "    .dataframe thead th {\n",
       "        text-align: right;\n",
       "    }\n",
       "</style>\n",
       "<table border=\"1\" class=\"dataframe\">\n",
       "  <thead>\n",
       "    <tr style=\"text-align: right;\">\n",
       "      <th></th>\n",
       "      <th>url_len</th>\n",
       "      <th>count_comma</th>\n",
       "      <th>count_semicolon</th>\n",
       "      <th>count_quotes</th>\n",
       "      <th>count_braces</th>\n",
       "      <th>count_redirects</th>\n",
       "      <th>count_pipes</th>\n",
       "      <th>count_dots</th>\n",
       "      <th>count_dash</th>\n",
       "      <th>count_underline</th>\n",
       "      <th>...</th>\n",
       "      <th>count_dots_host</th>\n",
       "      <th>count_digit_host</th>\n",
       "      <th>count_non_alphanumeric_host</th>\n",
       "      <th>parameter_count</th>\n",
       "      <th>parameter_length</th>\n",
       "      <th>directory_len</th>\n",
       "      <th>digit_char_ratio</th>\n",
       "      <th>vowel_consonant_ratio</th>\n",
       "      <th>avg_len_token</th>\n",
       "      <th>label</th>\n",
       "    </tr>\n",
       "  </thead>\n",
       "  <tbody>\n",
       "    <tr>\n",
       "      <td>count</td>\n",
       "      <td>997429.000000</td>\n",
       "      <td>997429.000000</td>\n",
       "      <td>997429.000000</td>\n",
       "      <td>997429.000000</td>\n",
       "      <td>997429.000000</td>\n",
       "      <td>997429.000000</td>\n",
       "      <td>997429.000000</td>\n",
       "      <td>997429.000000</td>\n",
       "      <td>997429.000000</td>\n",
       "      <td>997429.000000</td>\n",
       "      <td>...</td>\n",
       "      <td>997429.000000</td>\n",
       "      <td>997429.000000</td>\n",
       "      <td>997429.000000</td>\n",
       "      <td>997429.000000</td>\n",
       "      <td>997429.000000</td>\n",
       "      <td>997429.000000</td>\n",
       "      <td>997429.000000</td>\n",
       "      <td>997429.000000</td>\n",
       "      <td>997429.000000</td>\n",
       "      <td>997429.000000</td>\n",
       "    </tr>\n",
       "    <tr>\n",
       "      <td>mean</td>\n",
       "      <td>52.697478</td>\n",
       "      <td>0.013902</td>\n",
       "      <td>0.065268</td>\n",
       "      <td>0.014879</td>\n",
       "      <td>0.021332</td>\n",
       "      <td>0.006386</td>\n",
       "      <td>0.001452</td>\n",
       "      <td>2.263143</td>\n",
       "      <td>1.263633</td>\n",
       "      <td>0.405938</td>\n",
       "      <td>...</td>\n",
       "      <td>1.723980</td>\n",
       "      <td>1.315748</td>\n",
       "      <td>1.833365</td>\n",
       "      <td>0.250323</td>\n",
       "      <td>6.962959</td>\n",
       "      <td>28.002682</td>\n",
       "      <td>22.492701</td>\n",
       "      <td>0.374846</td>\n",
       "      <td>8.233377</td>\n",
       "      <td>0.261437</td>\n",
       "    </tr>\n",
       "    <tr>\n",
       "      <td>std</td>\n",
       "      <td>42.468025</td>\n",
       "      <td>0.266665</td>\n",
       "      <td>0.688567</td>\n",
       "      <td>0.206766</td>\n",
       "      <td>0.256387</td>\n",
       "      <td>0.108062</td>\n",
       "      <td>0.106259</td>\n",
       "      <td>1.407485</td>\n",
       "      <td>2.579008</td>\n",
       "      <td>1.304641</td>\n",
       "      <td>...</td>\n",
       "      <td>0.943686</td>\n",
       "      <td>2.679334</td>\n",
       "      <td>1.118670</td>\n",
       "      <td>0.839867</td>\n",
       "      <td>32.553426</td>\n",
       "      <td>25.123899</td>\n",
       "      <td>18.835932</td>\n",
       "      <td>0.123257</td>\n",
       "      <td>5.044912</td>\n",
       "      <td>0.439418</td>\n",
       "    </tr>\n",
       "    <tr>\n",
       "      <td>min</td>\n",
       "      <td>0.000000</td>\n",
       "      <td>0.000000</td>\n",
       "      <td>0.000000</td>\n",
       "      <td>0.000000</td>\n",
       "      <td>0.000000</td>\n",
       "      <td>0.000000</td>\n",
       "      <td>0.000000</td>\n",
       "      <td>0.000000</td>\n",
       "      <td>0.000000</td>\n",
       "      <td>0.000000</td>\n",
       "      <td>...</td>\n",
       "      <td>0.000000</td>\n",
       "      <td>1.000000</td>\n",
       "      <td>0.000000</td>\n",
       "      <td>0.000000</td>\n",
       "      <td>0.000000</td>\n",
       "      <td>0.000000</td>\n",
       "      <td>0.000000</td>\n",
       "      <td>0.000000</td>\n",
       "      <td>0.444444</td>\n",
       "      <td>0.000000</td>\n",
       "    </tr>\n",
       "    <tr>\n",
       "      <td>25%</td>\n",
       "      <td>30.000000</td>\n",
       "      <td>0.000000</td>\n",
       "      <td>0.000000</td>\n",
       "      <td>0.000000</td>\n",
       "      <td>0.000000</td>\n",
       "      <td>0.000000</td>\n",
       "      <td>0.000000</td>\n",
       "      <td>1.000000</td>\n",
       "      <td>0.000000</td>\n",
       "      <td>0.000000</td>\n",
       "      <td>...</td>\n",
       "      <td>1.000000</td>\n",
       "      <td>1.000000</td>\n",
       "      <td>1.000000</td>\n",
       "      <td>0.000000</td>\n",
       "      <td>0.000000</td>\n",
       "      <td>12.000000</td>\n",
       "      <td>6.925000</td>\n",
       "      <td>0.294118</td>\n",
       "      <td>5.555556</td>\n",
       "      <td>0.000000</td>\n",
       "    </tr>\n",
       "    <tr>\n",
       "      <td>50%</td>\n",
       "      <td>43.000000</td>\n",
       "      <td>0.000000</td>\n",
       "      <td>0.000000</td>\n",
       "      <td>0.000000</td>\n",
       "      <td>0.000000</td>\n",
       "      <td>0.000000</td>\n",
       "      <td>0.000000</td>\n",
       "      <td>2.000000</td>\n",
       "      <td>0.000000</td>\n",
       "      <td>0.000000</td>\n",
       "      <td>...</td>\n",
       "      <td>2.000000</td>\n",
       "      <td>1.000000</td>\n",
       "      <td>2.000000</td>\n",
       "      <td>0.000000</td>\n",
       "      <td>0.000000</td>\n",
       "      <td>22.000000</td>\n",
       "      <td>19.000000</td>\n",
       "      <td>0.368421</td>\n",
       "      <td>7.200000</td>\n",
       "      <td>0.000000</td>\n",
       "    </tr>\n",
       "    <tr>\n",
       "      <td>75%</td>\n",
       "      <td>62.000000</td>\n",
       "      <td>0.000000</td>\n",
       "      <td>0.000000</td>\n",
       "      <td>0.000000</td>\n",
       "      <td>0.000000</td>\n",
       "      <td>0.000000</td>\n",
       "      <td>0.000000</td>\n",
       "      <td>3.000000</td>\n",
       "      <td>1.000000</td>\n",
       "      <td>0.000000</td>\n",
       "      <td>...</td>\n",
       "      <td>2.000000</td>\n",
       "      <td>1.000000</td>\n",
       "      <td>2.000000</td>\n",
       "      <td>0.000000</td>\n",
       "      <td>0.000000</td>\n",
       "      <td>38.000000</td>\n",
       "      <td>33.000000</td>\n",
       "      <td>0.450000</td>\n",
       "      <td>9.444444</td>\n",
       "      <td>1.000000</td>\n",
       "    </tr>\n",
       "    <tr>\n",
       "      <td>max</td>\n",
       "      <td>4010.000000</td>\n",
       "      <td>36.000000</td>\n",
       "      <td>104.000000</td>\n",
       "      <td>26.000000</td>\n",
       "      <td>22.000000</td>\n",
       "      <td>16.000000</td>\n",
       "      <td>37.000000</td>\n",
       "      <td>74.000000</td>\n",
       "      <td>50.000000</td>\n",
       "      <td>200.000000</td>\n",
       "      <td>...</td>\n",
       "      <td>34.000000</td>\n",
       "      <td>134.000000</td>\n",
       "      <td>34.000000</td>\n",
       "      <td>43.000000</td>\n",
       "      <td>3975.000000</td>\n",
       "      <td>2156.000000</td>\n",
       "      <td>2141.000000</td>\n",
       "      <td>2.000000</td>\n",
       "      <td>402.800000</td>\n",
       "      <td>1.000000</td>\n",
       "    </tr>\n",
       "  </tbody>\n",
       "</table>\n",
       "<p>8 rows × 31 columns</p>\n",
       "</div>"
      ],
      "text/plain": [
       "             url_len    count_comma  count_semicolon   count_quotes  \\\n",
       "count  997429.000000  997429.000000    997429.000000  997429.000000   \n",
       "mean       52.697478       0.013902         0.065268       0.014879   \n",
       "std        42.468025       0.266665         0.688567       0.206766   \n",
       "min         0.000000       0.000000         0.000000       0.000000   \n",
       "25%        30.000000       0.000000         0.000000       0.000000   \n",
       "50%        43.000000       0.000000         0.000000       0.000000   \n",
       "75%        62.000000       0.000000         0.000000       0.000000   \n",
       "max      4010.000000      36.000000       104.000000      26.000000   \n",
       "\n",
       "        count_braces  count_redirects    count_pipes     count_dots  \\\n",
       "count  997429.000000    997429.000000  997429.000000  997429.000000   \n",
       "mean        0.021332         0.006386       0.001452       2.263143   \n",
       "std         0.256387         0.108062       0.106259       1.407485   \n",
       "min         0.000000         0.000000       0.000000       0.000000   \n",
       "25%         0.000000         0.000000       0.000000       1.000000   \n",
       "50%         0.000000         0.000000       0.000000       2.000000   \n",
       "75%         0.000000         0.000000       0.000000       3.000000   \n",
       "max        22.000000        16.000000      37.000000      74.000000   \n",
       "\n",
       "          count_dash  count_underline  ...  count_dots_host  count_digit_host  \\\n",
       "count  997429.000000    997429.000000  ...    997429.000000     997429.000000   \n",
       "mean        1.263633         0.405938  ...         1.723980          1.315748   \n",
       "std         2.579008         1.304641  ...         0.943686          2.679334   \n",
       "min         0.000000         0.000000  ...         0.000000          1.000000   \n",
       "25%         0.000000         0.000000  ...         1.000000          1.000000   \n",
       "50%         0.000000         0.000000  ...         2.000000          1.000000   \n",
       "75%         1.000000         0.000000  ...         2.000000          1.000000   \n",
       "max        50.000000       200.000000  ...        34.000000        134.000000   \n",
       "\n",
       "       count_non_alphanumeric_host  parameter_count  parameter_length  \\\n",
       "count                997429.000000    997429.000000     997429.000000   \n",
       "mean                      1.833365         0.250323          6.962959   \n",
       "std                       1.118670         0.839867         32.553426   \n",
       "min                       0.000000         0.000000          0.000000   \n",
       "25%                       1.000000         0.000000          0.000000   \n",
       "50%                       2.000000         0.000000          0.000000   \n",
       "75%                       2.000000         0.000000          0.000000   \n",
       "max                      34.000000        43.000000       3975.000000   \n",
       "\n",
       "       directory_len  digit_char_ratio  vowel_consonant_ratio  avg_len_token  \\\n",
       "count  997429.000000     997429.000000          997429.000000  997429.000000   \n",
       "mean       28.002682         22.492701               0.374846       8.233377   \n",
       "std        25.123899         18.835932               0.123257       5.044912   \n",
       "min         0.000000          0.000000               0.000000       0.444444   \n",
       "25%        12.000000          6.925000               0.294118       5.555556   \n",
       "50%        22.000000         19.000000               0.368421       7.200000   \n",
       "75%        38.000000         33.000000               0.450000       9.444444   \n",
       "max      2156.000000       2141.000000               2.000000     402.800000   \n",
       "\n",
       "               label  \n",
       "count  997429.000000  \n",
       "mean        0.261437  \n",
       "std         0.439418  \n",
       "min         0.000000  \n",
       "25%         0.000000  \n",
       "50%         0.000000  \n",
       "75%         1.000000  \n",
       "max         1.000000  \n",
       "\n",
       "[8 rows x 31 columns]"
      ]
     },
     "execution_count": 62,
     "metadata": {},
     "output_type": "execute_result"
    }
   ],
   "source": [
    "dataset.describe()"
   ]
  },
  {
   "cell_type": "code",
   "execution_count": 63,
   "metadata": {},
   "outputs": [],
   "source": [
    "dataset=sklearn.utils.shuffle(dataset,random_state=10)"
   ]
  },
  {
   "cell_type": "code",
   "execution_count": 64,
   "metadata": {},
   "outputs": [],
   "source": [
    "x=dataset.drop(['url','label'],axis=1)\n",
    "y=dataset.label"
   ]
  },
  {
   "cell_type": "code",
   "execution_count": 65,
   "metadata": {},
   "outputs": [
    {
     "name": "stdout",
     "output_type": "stream",
     "text": [
      "Len of X 997429\n",
      "Len of y 997429\n"
     ]
    }
   ],
   "source": [
    "print(\"Len of X\",len(x))\n",
    "print(\"Len of y\",len(y))"
   ]
  },
  {
   "cell_type": "code",
   "execution_count": 66,
   "metadata": {},
   "outputs": [],
   "source": [
    "x_train, x_test, y_train, y_test = train_test_split(x, y, test_size=0.02,stratify=y, random_state=10)"
   ]
  },
  {
   "cell_type": "code",
   "execution_count": 67,
   "metadata": {},
   "outputs": [
    {
     "data": {
      "text/plain": [
       "26.143757417031548"
      ]
     },
     "execution_count": 67,
     "metadata": {},
     "output_type": "execute_result"
    }
   ],
   "source": [
    "len(y_train[y_train==1])/len(y_train)*100"
   ]
  },
  {
   "cell_type": "code",
   "execution_count": 68,
   "metadata": {},
   "outputs": [
    {
     "data": {
      "text/plain": [
       "26.141661236152185"
      ]
     },
     "execution_count": 68,
     "metadata": {},
     "output_type": "execute_result"
    }
   ],
   "source": [
    "len(y_test[y_test==1])/len(y_test)*100"
   ]
  },
  {
   "cell_type": "code",
   "execution_count": 69,
   "metadata": {},
   "outputs": [],
   "source": [
    "from sklearn.ensemble import RandomForestClassifier\n",
    "\n",
    "# Create the model with 100 trees\n",
    "model = RandomForestClassifier(bootstrap=True,max_features='sqrt',n_estimators=1500,\n",
    "                               random_state=42)"
   ]
  },
  {
   "cell_type": "code",
   "execution_count": null,
   "metadata": {},
   "outputs": [],
   "source": [
    "# Fit on training data\n",
    "model.fit(x_train,y_train)"
   ]
  },
  {
   "cell_type": "code",
   "execution_count": 46,
   "metadata": {},
   "outputs": [
    {
     "data": {
      "text/plain": [
       "array([[14070,   664],\n",
       "       [ 1100,  4115]], dtype=int64)"
      ]
     },
     "execution_count": 46,
     "metadata": {},
     "output_type": "execute_result"
    }
   ],
   "source": [
    "pred=model.predict(x_test)\n",
    "metrics.confusion_matrix(y_test, pred)"
   ]
  },
  {
   "cell_type": "code",
   "execution_count": 47,
   "metadata": {},
   "outputs": [
    {
     "name": "stdout",
     "output_type": "stream",
     "text": [
      "Precision = 0.8942736314928681\n",
      "Recall = 0.8720020781435598\n",
      "Accuracy = 0.9115745150132839\n",
      "F1 score = 0.8822526662064655\n"
     ]
    }
   ],
   "source": [
    "model.score(x_test,y_test)*100\n",
    "pred=model.predict(x_test)\n",
    "print(\"Precision = {}\".format(precision_score(y_test,pred, average='macro')))\n",
    "print(\"Recall = {}\".format(recall_score(y_test,pred, average='macro')))\n",
    "print(\"Accuracy = {}\".format(accuracy_score(y_test,pred)))\n",
    "print(\"F1 score = {}\".format(f1_score(y_test,pred,average='macro')))"
   ]
  },
  {
   "cell_type": "code",
   "execution_count": 48,
   "metadata": {},
   "outputs": [],
   "source": [
    "#import pickle\n",
    "#fi=open(\"random1.pkl\",\"wb\")\n",
    "#pickle.dump(model,fi)"
   ]
  },
  {
   "cell_type": "code",
   "execution_count": 49,
   "metadata": {},
   "outputs": [],
   "source": [
    "#file1=open(\"random1.pkl\",'rb')\n",
    "#mo=pickle.load(file1)"
   ]
  },
  {
   "cell_type": "code",
   "execution_count": 50,
   "metadata": {},
   "outputs": [],
   "source": [
    "#from sklearn.externals import joblib \n",
    "  \n",
    "# Save the model as a pickle in a file \n",
    "#joblib.dump(model, 'filename.pkl') \n",
    "  \n",
    "# Load the model from the file \n",
    "#knn_from_joblib = joblib.load('filename.pkl')  \n",
    "  \n",
    "# Use the loaded model to make predictions \n",
    "#knn_from_joblib.predict(X_test)"
   ]
  },
  {
   "cell_type": "code",
   "execution_count": 51,
   "metadata": {},
   "outputs": [],
   "source": [
    "#pred=knn_from_joblib.predict(x_test)\n",
    "#metrics.confusion_matrix(y_test, pred)"
   ]
  },
  {
   "cell_type": "code",
   "execution_count": 52,
   "metadata": {},
   "outputs": [],
   "source": [
    "#abc=pickle.load(open(\"filename.pkl\"))"
   ]
  },
  {
   "cell_type": "code",
   "execution_count": 53,
   "metadata": {},
   "outputs": [
    {
     "name": "stdout",
     "output_type": "stream",
     "text": [
      "finalized_model_15_25.sav\n"
     ]
    }
   ],
   "source": [
    "import datetime\n",
    "a=datetime.datetime.now()\n",
    "filename = f'finalized_model_{a.hour}_{a.minute}.sav'\n",
    "print(filename)"
   ]
  },
  {
   "cell_type": "code",
   "execution_count": 54,
   "metadata": {},
   "outputs": [],
   "source": [
    "pickle.dump(model, open(filename, 'wb'))"
   ]
  },
  {
   "cell_type": "code",
   "execution_count": 55,
   "metadata": {},
   "outputs": [],
   "source": [
    "loaded_model = pickle.load(open(filename, 'rb'))"
   ]
  },
  {
   "cell_type": "code",
   "execution_count": 56,
   "metadata": {},
   "outputs": [
    {
     "data": {
      "text/plain": [
       "array([[14070,   664],\n",
       "       [ 1100,  4115]], dtype=int64)"
      ]
     },
     "execution_count": 56,
     "metadata": {},
     "output_type": "execute_result"
    }
   ],
   "source": [
    "pred=loaded_model.predict(x_test)\n",
    "metrics.confusion_matrix(y_test, pred)"
   ]
  },
  {
   "cell_type": "code",
   "execution_count": 57,
   "metadata": {},
   "outputs": [
    {
     "name": "stdout",
     "output_type": "stream",
     "text": [
      "Precision = 0.8942736314928681\n",
      "Recall = 0.8720020781435598\n",
      "Accuracy = 0.9115745150132839\n",
      "F1 score = 0.8822526662064655\n"
     ]
    }
   ],
   "source": [
    "loaded_model.score(x_test,y_test)*100\n",
    "pred=loaded_model.predict(x_test)\n",
    "print(\"Precision = {}\".format(precision_score(y_test,pred, average='macro')))\n",
    "print(\"Recall = {}\".format(recall_score(y_test,pred, average='macro')))\n",
    "print(\"Accuracy = {}\".format(accuracy_score(y_test,pred)))\n",
    "print(\"F1 score = {}\".format(f1_score(y_test,pred,average='macro')))"
   ]
  },
  {
   "cell_type": "code",
   "execution_count": null,
   "metadata": {},
   "outputs": [],
   "source": []
  }
 ],
 "metadata": {
  "kernelspec": {
   "display_name": "Python 3",
   "language": "python",
   "name": "python3"
  },
  "language_info": {
   "codemirror_mode": {
    "name": "ipython",
    "version": 3
   },
   "file_extension": ".py",
   "mimetype": "text/x-python",
   "name": "python",
   "nbconvert_exporter": "python",
   "pygments_lexer": "ipython3",
   "version": "3.7.7"
  }
 },
 "nbformat": 4,
 "nbformat_minor": 2
}
